{
 "cells": [
  {
   "cell_type": "code",
   "execution_count": 2,
   "metadata": {},
   "outputs": [],
   "source": [
    "import pandas as pd\n",
    "import numpy as np\n",
    "import matplotlib.pyplot as plt\n",
    "plt.rcParams.update({'font.size': 12})\n",
    "import math\n",
    "from scipy.optimize import minimize_scalar,minimize"
   ]
  },
  {
   "cell_type": "code",
   "execution_count": 3,
   "metadata": {},
   "outputs": [],
   "source": [
    "class Yeoh:\n",
    "    def __init__(self,P,A,B,C):\n",
    "        self.P = P\n",
    "        self.A = A\n",
    "        self.B = B\n",
    "        self.C = C\n",
    "        self.bnds2d = ((1, 10), (1,None))\n",
    "        self.bnds3d = ((1, 10), (1,None),(1,None))\n",
    "    \n",
    "    def objective_3d(self,params):\n",
    "        x,y,z=params\n",
    "        I1 = x**2+y**2+z**2\n",
    "        return (self.A/2)*(I1-3) + (self.B/2)*(I1-3)**2 + (self.C/2)*(I1-3)**3 - (self.P)*(x) # For 1-D testing\n",
    "\n",
    "    def objective_2d(self,params):\n",
    "        x,y=params\n",
    "        z = (1/x*y)\n",
    "        I1 = x**2+y**2+z**2\n",
    "        return (self.A/2)*(I1-3) + (self.B/2)*(I1-3)**2 + (self.C/2)*(I1-3)**3 - (self.P)*(x) # For 1-D testing\n",
    "\n",
    "    def return_min(self,start):\n",
    "        if(len(start)==3):\n",
    "            res = minimize(self.objective_3d,x0=start,bounds=self.bnds3d)\n",
    "            return res\n",
    "        else:\n",
    "            res = minimize(self.objective_2d,x0=start,bounds = self.bnds2d)\n",
    "            return res \n",
    "    \n",
    "    def calc_energy(self,params):\n",
    "        if(len(params)==3):\n",
    "            x1,x2,x3 = params\n",
    "            I1 = x1**2+x2**2+x3**2\n",
    "            return (self.A/2)*(I1-3)+(self.B/2)*(I1-3)**2 + (self.C/2)*(I1-3)**3\n",
    "        else:\n",
    "            x1,x2=params\n",
    "            x3 = 1/(x1*x2)\n",
    "            I1 = x1**2+x2**2+x3**2\n",
    "            return (self.A/2)*(I1-3)+(self.B/2)*(I1-3)**2 + (self.C/2)*(I1-3)**3"
   ]
  },
  {
   "cell_type": "code",
   "execution_count": 4,
   "metadata": {},
   "outputs": [],
   "source": [
    "class Plotter_Yeoh:\n",
    "    def __init__(self,index,soln,energy):\n",
    "        self.index = index\n",
    "        self.soln = soln\n",
    "        self.energy = energy\n",
    "        self.solnx = []\n",
    "        self.solny = []\n",
    "        for i in soln[self.index]:\n",
    "            self.solnx.append(i[0])\n",
    "            self.solny.append(i[1])\n",
    "\n",
    "    def force_stretch(self):\n",
    "        plt.plot(self.solnx,P,'r+')\n",
    "        plt.xlabel('Stretch parameter',fontname='Times New Roman')\n",
    "        plt.ylabel('Force',fontname='Times New Roman')\n",
    "        plt.title(\"Force vs Stretch parameter\")\n",
    "        plt.show()\n",
    "\n",
    "    def energy_stretch(self):\n",
    "        lamdax = []\n",
    "        lamday = []\n",
    "        lamdaz = []\n",
    "\n",
    "        for i in self.soln[self.index]:\n",
    "            lamdax.append([i[0]])\n",
    "            lamday.append(i[1])\n",
    "            if(len(self.soln[self.index])==3):\n",
    "                lamdaz.append(i[2])\n",
    "            else:\n",
    "                lamdaz.append(1/(i[0]*i[1]))\n",
    "        plt.plot(lamdax,self.energy[self.index],'bo')\n",
    "        plt.xlabel('Stretch parameter x',fontname='Times New Roman')\n",
    "        plt.ylabel('Energy',fontname='Times New Roman')\n",
    "        plt.title(\"Energy vs Stretch parameter x\")\n",
    "        plt.show()\n",
    "\n",
    "        plt.plot(lamday,self.energy[self.index],'bo')\n",
    "        plt.xlabel('Stretch parameter y',fontname='Times New Roman')\n",
    "        plt.ylabel('Energy',fontname='Times New Roman')\n",
    "        plt.title(\"Energy vs Stretch parameter y\")\n",
    "        plt.show()\n",
    "\n",
    "        plt.plot(lamdaz,self.energy[self.index],'bo')\n",
    "        plt.xlabel('Stretch parameter z',fontname='Times New Roman')\n",
    "        plt.ylabel('Energy',fontname='Times New Roman')\n",
    "        plt.title(\"Energy vs Stretch parameter z\")\n",
    "        plt.show()\n",
    "    \n",
    "    def calc_energy(self,params):\n",
    "        if(len(params)==3):\n",
    "            x1,x2,x3 = params\n",
    "            I1 = x1**2+x2**2+x3**2\n",
    "            return (A[self.index]/2)*(I1-3) + (B[self.index]/2)*(I1-3)**2 + (C[self.index]/2)*(I1-3)**3 - P[450]*x1\n",
    "        else:\n",
    "            x1,x2=params\n",
    "            x3 = 1/(x1*x2)\n",
    "            I1 = x1**2+x2**2+x3**2\n",
    "            return (A[self.index]/2)*(I1-3) + (B[self.index]/2)*(I1-3)**2 + (C[self.index]/2)*(I1-3)**3 - P[450]*x1\n",
    "    \n",
    "    def check_min_lamda_2d(self):\n",
    "        lamdax = np.linspace(2,3,500)\n",
    "        lamdax1 = np.linspace(1,10,500)\n",
    "        lamday = np.ones(500)\n",
    "        lamdas = []\n",
    "        lamdas1 = []\n",
    "        for i in range(500):\n",
    "            lamdas.append([lamdax[i],lamday[i]])\n",
    "            lamdas1.append([lamdax1[i],lamday[i]])\n",
    "        energy_calc = [self.calc_energy(lamdas[i]) for i in range(500)]\n",
    "        energy_calc1 = [self.calc_energy(lamdas1[i]) for i in range(500)]\n",
    "        plt.plot(lamdax,energy_calc)\n",
    "        plt.axvline(x = self.solnx[450], color = 'purple', label = 'axvline - full height')\n",
    "        plt.xlabel('Stretch parameter',fontname='Times New Roman')\n",
    "        plt.ylabel('Energy',fontname='Times New Roman')\n",
    "        plt.title(f'Plot Showing lamda = {np.round(self.solnx[450],2)} is minimum energy for force = {np.round(P[450],2)}')\n",
    "        plt.show()\n",
    "        plt.plot(lamdax1,energy_calc1)\n",
    "        plt.axvline(x = self.solnx[450], color = 'purple', label = 'axvline - full height')\n",
    "        plt.xlabel('Stretch parameter',fontname='Times New Roman')\n",
    "        plt.ylabel('Energy',fontname='Times New Roman')\n",
    "        plt.title(f'Plot Showing lamda = {np.round(self.solnx[450],2)} is minimum energy for force = {np.round(P[450],2)}')\n",
    "        plt.show()\n",
    "\n",
    "    def check_min_lamda_3d(self):\n",
    "        lamdax = np.linspace(2,3,500)\n",
    "        lamdax1 = np.linspace(1,10,500)\n",
    "        lamday = np.ones(500)\n",
    "        lamdaz = np.ones(500)\n",
    "        lamdas = []\n",
    "        lamdas1 =[]\n",
    "        for i in range(500):\n",
    "            lamdas.append([lamdax[i],lamday[i],lamdaz[i]])\n",
    "            lamdas1.append([lamdax1[i],lamday[i],lamdaz[i]])\n",
    "\n",
    "        energy = [self.calc_energy(lamdas[i]) for i in range(500)]\n",
    "        energy1 = [self.calc_energy(lamdas1[i]) for i in range(500)]\n",
    "        plt.plot(lamdax,energy)\n",
    "        plt.axvline(x = self.solnx[450], color = 'purple', label = 'axvline - full height')\n",
    "        plt.xlabel('Stretch parameter',fontname='Times New Roman')\n",
    "        plt.ylabel('Energy',fontname='Times New Roman')\n",
    "        plt.title(f'Plot Showing lamda = {np.round(self.solnx[450],2)} is minimum energy for force = {np.round(P[450],2)}')\n",
    "        plt.show()\n",
    "        plt.plot(lamdax1,energy1)\n",
    "        plt.axvline(x = self.solnx[450], color = 'purple', label = 'axvline - full height')\n",
    "        plt.xlabel('Stretch parameter',fontname='Times New Roman')\n",
    "        plt.ylabel('Energy',fontname='Times New Roman')\n",
    "        plt.title(f'Plot Showing lamda = {np.round(self.solnx[450],2)} is minimum energy for force = {np.round(P[450],2)}')\n",
    "        plt.show()"
   ]
  },
  {
   "cell_type": "code",
   "execution_count": 5,
   "metadata": {},
   "outputs": [],
   "source": [
    "A = np.logspace(-1,2,500)\n",
    "B = np.logspace(1,3,500)\n",
    "C = np.logspace(-2,2,500)\n",
    "P = np.linspace(500,1500,1000)"
   ]
  },
  {
   "cell_type": "code",
   "execution_count": 6,
   "metadata": {},
   "outputs": [],
   "source": [
    "soln_2d = []\n",
    "energy_2d = []\n",
    "for k in range(500):\n",
    "    temp_soln = []\n",
    "    temp_energy =[]\n",
    "    for i in range(len(P)):\n",
    "        a = Yeoh(P[i],A[k],B[k],C[k])\n",
    "        res = a.return_min([1.,1.])\n",
    "        temp_soln.append(res['x'])\n",
    "        energy_node = a.calc_energy(res['x'])\n",
    "        temp_energy.append(energy_node)\n",
    "        \n",
    "    soln_2d.append(temp_soln)\n",
    "    energy_2d.append(temp_energy)"
   ]
  },
  {
   "cell_type": "code",
   "execution_count": null,
   "metadata": {},
   "outputs": [
    {
     "ename": "",
     "evalue": "",
     "output_type": "error",
     "traceback": [
      "\u001b[1;31mFailed to start the Kernel. \n",
      "\u001b[1;31mUnable to start Kernel 'Python 3.8.6' due to connection timeout. \n",
      "\u001b[1;31mView Jupyter <a href='command:jupyter.viewOutput'>log</a> for further details."
     ]
    }
   ],
   "source": [
    "soln_3d = []\n",
    "energy_3d = []\n",
    "for k in range(500):\n",
    "    temp_soln = []\n",
    "    temp_energy =[]\n",
    "    for i in range(len(P)):\n",
    "        a = Yeoh(P[i],A[k],B[k],C[k])\n",
    "        res = a.return_min([1.,1.,1.])\n",
    "        temp_soln.append(res['x'])\n",
    "        energy_node = a.calc_energy(res['x'])\n",
    "        temp_energy.append(energy_node)\n",
    "        \n",
    "    soln_3d.append(temp_soln)\n",
    "    energy_3d.append(temp_energy)"
   ]
  },
  {
   "cell_type": "code",
   "execution_count": null,
   "metadata": {},
   "outputs": [
    {
     "ename": "",
     "evalue": "",
     "output_type": "error",
     "traceback": [
      "\u001b[1;31mFailed to start the Kernel. \n",
      "\u001b[1;31mUnable to start Kernel 'Python 3.8.6' due to connection timeout. \n",
      "\u001b[1;31mView Jupyter <a href='command:jupyter.viewOutput'>log</a> for further details."
     ]
    }
   ],
   "source": [
    "a = Plotter_Yeoh(200,soln_2d,energy_2d)\n",
    "a.force_stretch()\n",
    "a.energy_stretch()\n",
    "a.check_min_lamda_2d()"
   ]
  },
  {
   "cell_type": "code",
   "execution_count": null,
   "metadata": {},
   "outputs": [
    {
     "ename": "",
     "evalue": "",
     "output_type": "error",
     "traceback": [
      "\u001b[1;31mFailed to start the Kernel. \n",
      "\u001b[1;31mUnable to start Kernel 'Python 3.8.6' due to connection timeout. \n",
      "\u001b[1;31mView Jupyter <a href='command:jupyter.viewOutput'>log</a> for further details."
     ]
    }
   ],
   "source": [
    "b = Plotter_Yeoh(200,soln_3d,energy_3d)\n",
    "b.force_stretch()\n",
    "b.energy_stretch()\n",
    "b.check_min_lamda_3d()"
   ]
  },
  {
   "cell_type": "code",
   "execution_count": null,
   "metadata": {},
   "outputs": [
    {
     "ename": "",
     "evalue": "",
     "output_type": "error",
     "traceback": [
      "\u001b[1;31mFailed to start the Kernel. \n",
      "\u001b[1;31mUnable to start Kernel 'Python 3.8.6' due to connection timeout. \n",
      "\u001b[1;31mView Jupyter <a href='command:jupyter.viewOutput'>log</a> for further details."
     ]
    }
   ],
   "source": []
  },
  {
   "cell_type": "code",
   "execution_count": null,
   "metadata": {},
   "outputs": [
    {
     "ename": "",
     "evalue": "",
     "output_type": "error",
     "traceback": [
      "\u001b[1;31mFailed to start the Kernel. \n",
      "\u001b[1;31mUnable to start Kernel 'Python 3.8.6' due to connection timeout. \n",
      "\u001b[1;31mView Jupyter <a href='command:jupyter.viewOutput'>log</a> for further details."
     ]
    }
   ],
   "source": [
    "def calc_energy(params):\n",
    "    if(len(params)==2):\n",
    "        x1,x2 = params\n",
    "        x3 = 1/(x1*x2)\n",
    "        I1 = x1**2+x2**2+x3**2\n",
    "        return [(I1-3),(I1-3)**2,(I1-3)**3]\n",
    "    else:\n",
    "        x1,x2,x3 = params\n",
    "        I1 = x1**2+x2**2+x3**2\n",
    "        return [(I1-3),(I1-3)**2,(I1-3)**3]"
   ]
  },
  {
   "cell_type": "code",
   "execution_count": null,
   "metadata": {},
   "outputs": [
    {
     "ename": "",
     "evalue": "",
     "output_type": "error",
     "traceback": [
      "\u001b[1;31mFailed to start the Kernel. \n",
      "\u001b[1;31mUnable to start Kernel 'Python 3.8.6' due to connection timeout. \n",
      "\u001b[1;31mView Jupyter <a href='command:jupyter.viewOutput'>log</a> for further details."
     ]
    }
   ],
   "source": [
    "from sklearn.model_selection import train_test_split,cross_val_score,KFold,GridSearchCV\n",
    "from sklearn.metrics import mean_squared_error\n",
    "from sklearn.ensemble import RandomForestRegressor"
   ]
  },
  {
   "cell_type": "code",
   "execution_count": null,
   "metadata": {},
   "outputs": [
    {
     "ename": "",
     "evalue": "",
     "output_type": "error",
     "traceback": [
      "\u001b[1;31mFailed to start the Kernel. \n",
      "\u001b[1;31mUnable to start Kernel 'Python 3.8.6' due to connection timeout. \n",
      "\u001b[1;31mView Jupyter <a href='command:jupyter.viewOutput'>log</a> for further details."
     ]
    }
   ],
   "source": [
    "data = np.array([[calc_energy(x) for x in temp] for temp in soln_2d])"
   ]
  },
  {
   "cell_type": "code",
   "execution_count": null,
   "metadata": {},
   "outputs": [
    {
     "ename": "",
     "evalue": "",
     "output_type": "error",
     "traceback": [
      "\u001b[1;31mFailed to start the Kernel. \n",
      "\u001b[1;31mUnable to start Kernel 'Python 3.8.6' due to connection timeout. \n",
      "\u001b[1;31mView Jupyter <a href='command:jupyter.viewOutput'>log</a> for further details."
     ]
    }
   ],
   "source": [
    "num_samples,nx,ny = data.shape"
   ]
  },
  {
   "cell_type": "code",
   "execution_count": null,
   "metadata": {},
   "outputs": [
    {
     "ename": "",
     "evalue": "",
     "output_type": "error",
     "traceback": [
      "\u001b[1;31mFailed to start the Kernel. \n",
      "\u001b[1;31mUnable to start Kernel 'Python 3.8.6' due to connection timeout. \n",
      "\u001b[1;31mView Jupyter <a href='command:jupyter.viewOutput'>log</a> for further details."
     ]
    }
   ],
   "source": [
    "dataset = data.reshape(num_samples,nx*ny)"
   ]
  },
  {
   "cell_type": "code",
   "execution_count": null,
   "metadata": {},
   "outputs": [
    {
     "ename": "",
     "evalue": "",
     "output_type": "error",
     "traceback": [
      "\u001b[1;31mFailed to start the Kernel. \n",
      "\u001b[1;31mUnable to start Kernel 'Python 3.8.6' due to connection timeout. \n",
      "\u001b[1;31mView Jupyter <a href='command:jupyter.viewOutput'>log</a> for further details."
     ]
    }
   ],
   "source": [
    "Y = []\n",
    "X = dataset\n",
    "for i in range(500):\n",
    "    Y.append([A[i],B[i],C[i]])\n"
   ]
  },
  {
   "cell_type": "code",
   "execution_count": null,
   "metadata": {},
   "outputs": [
    {
     "ename": "",
     "evalue": "",
     "output_type": "error",
     "traceback": [
      "\u001b[1;31mFailed to start the Kernel. \n",
      "\u001b[1;31mUnable to start Kernel 'Python 3.8.6' due to connection timeout. \n",
      "\u001b[1;31mView Jupyter <a href='command:jupyter.viewOutput'>log</a> for further details."
     ]
    }
   ],
   "source": [
    "X_train,X_test,y_train,y_test = train_test_split(X,Y,test_size=0.25)"
   ]
  },
  {
   "cell_type": "code",
   "execution_count": null,
   "metadata": {},
   "outputs": [
    {
     "ename": "",
     "evalue": "",
     "output_type": "error",
     "traceback": [
      "\u001b[1;31mFailed to start the Kernel. \n",
      "\u001b[1;31mUnable to start Kernel 'Python 3.8.6' due to connection timeout. \n",
      "\u001b[1;31mView Jupyter <a href='command:jupyter.viewOutput'>log</a> for further details."
     ]
    }
   ],
   "source": [
    "print(np.array(X_train).shape)"
   ]
  },
  {
   "cell_type": "code",
   "execution_count": null,
   "metadata": {},
   "outputs": [
    {
     "ename": "",
     "evalue": "",
     "output_type": "error",
     "traceback": [
      "\u001b[1;31mFailed to start the Kernel. \n",
      "\u001b[1;31mUnable to start Kernel 'Python 3.8.6' due to connection timeout. \n",
      "\u001b[1;31mView Jupyter <a href='command:jupyter.viewOutput'>log</a> for further details."
     ]
    }
   ],
   "source": [
    "model = RandomForestRegressor()\n",
    "model.fit(X_train,y_train)"
   ]
  },
  {
   "cell_type": "code",
   "execution_count": null,
   "metadata": {},
   "outputs": [
    {
     "ename": "",
     "evalue": "",
     "output_type": "error",
     "traceback": [
      "\u001b[1;31mFailed to start the Kernel. \n",
      "\u001b[1;31mUnable to start Kernel 'Python 3.8.6' due to connection timeout. \n",
      "\u001b[1;31mView Jupyter <a href='command:jupyter.viewOutput'>log</a> for further details."
     ]
    }
   ],
   "source": [
    "predictions = model.predict(X_test)\n",
    "mean_squared_error(y_test, predictions)"
   ]
  },
  {
   "cell_type": "code",
   "execution_count": null,
   "metadata": {},
   "outputs": [
    {
     "ename": "",
     "evalue": "",
     "output_type": "error",
     "traceback": [
      "\u001b[1;31mFailed to start the Kernel. \n",
      "\u001b[1;31mUnable to start Kernel 'Python 3.8.6' due to connection timeout. \n",
      "\u001b[1;31mView Jupyter <a href='command:jupyter.viewOutput'>log</a> for further details."
     ]
    }
   ],
   "source": [
    "model.predict(np.array(X_test[100]).reshape(1,3000))"
   ]
  },
  {
   "cell_type": "code",
   "execution_count": null,
   "metadata": {},
   "outputs": [
    {
     "ename": "",
     "evalue": "",
     "output_type": "error",
     "traceback": [
      "\u001b[1;31mFailed to start the Kernel. \n",
      "\u001b[1;31mUnable to start Kernel 'Python 3.8.6' due to connection timeout. \n",
      "\u001b[1;31mView Jupyter <a href='command:jupyter.viewOutput'>log</a> for further details."
     ]
    }
   ],
   "source": [
    "print(y_test[100])"
   ]
  },
  {
   "cell_type": "code",
   "execution_count": null,
   "metadata": {},
   "outputs": [
    {
     "ename": "",
     "evalue": "",
     "output_type": "error",
     "traceback": [
      "\u001b[1;31mFailed to start the Kernel. \n",
      "\u001b[1;31mUnable to start Kernel 'Python 3.8.6' due to connection timeout. \n",
      "\u001b[1;31mView Jupyter <a href='command:jupyter.viewOutput'>log</a> for further details."
     ]
    }
   ],
   "source": []
  },
  {
   "cell_type": "code",
   "execution_count": null,
   "metadata": {},
   "outputs": [
    {
     "ename": "",
     "evalue": "",
     "output_type": "error",
     "traceback": [
      "\u001b[1;31mFailed to start the Kernel. \n",
      "\u001b[1;31mUnable to start Kernel 'Python 3.8.6' due to connection timeout. \n",
      "\u001b[1;31mView Jupyter <a href='command:jupyter.viewOutput'>log</a> for further details."
     ]
    }
   ],
   "source": [
    "data_3d = np.array([[calc_energy(x) for x in temp] for temp in soln_3d])"
   ]
  },
  {
   "cell_type": "code",
   "execution_count": null,
   "metadata": {},
   "outputs": [
    {
     "ename": "NameError",
     "evalue": "name 'data_3d' is not defined",
     "output_type": "error",
     "traceback": [
      "\u001b[1;31m---------------------------------------------------------------------------\u001b[0m",
      "\u001b[1;31mNameError\u001b[0m                                 Traceback (most recent call last)",
      "\u001b[1;32m<ipython-input-1-8245f63eaed1>\u001b[0m in \u001b[0;36m<module>\u001b[1;34m\u001b[0m\n\u001b[1;32m----> 1\u001b[1;33m \u001b[0mnum_samples\u001b[0m\u001b[1;33m,\u001b[0m\u001b[0mnx\u001b[0m\u001b[1;33m,\u001b[0m\u001b[0mny\u001b[0m \u001b[1;33m=\u001b[0m \u001b[0mdata_3d\u001b[0m\u001b[1;33m.\u001b[0m\u001b[0mshape\u001b[0m\u001b[1;33m\u001b[0m\u001b[1;33m\u001b[0m\u001b[0m\n\u001b[0m",
      "\u001b[1;31mNameError\u001b[0m: name 'data_3d' is not defined"
     ]
    }
   ],
   "source": [
    "num_samples,nx,ny = data_3d.shape"
   ]
  },
  {
   "cell_type": "code",
   "execution_count": null,
   "metadata": {},
   "outputs": [],
   "source": [
    "dataset_3d = data_3d.reshape(num_samples,nx*ny)"
   ]
  },
  {
   "cell_type": "code",
   "execution_count": null,
   "metadata": {},
   "outputs": [],
   "source": [
    "Y = []\n",
    "X = dataset_3d\n",
    "for i in range(500):\n",
    "    Y.append([A[i],B[i],C[i]])"
   ]
  },
  {
   "cell_type": "code",
   "execution_count": 32,
   "metadata": {},
   "outputs": [],
   "source": [
    "X_train_3d,X_test_3d,y_train_3d,y_test_3d = train_test_split(X,Y,test_size=0.25)"
   ]
  },
  {
   "cell_type": "code",
   "execution_count": 33,
   "metadata": {},
   "outputs": [
    {
     "data": {
      "text/html": [
       "<style>#sk-container-id-2 {color: black;background-color: white;}#sk-container-id-2 pre{padding: 0;}#sk-container-id-2 div.sk-toggleable {background-color: white;}#sk-container-id-2 label.sk-toggleable__label {cursor: pointer;display: block;width: 100%;margin-bottom: 0;padding: 0.3em;box-sizing: border-box;text-align: center;}#sk-container-id-2 label.sk-toggleable__label-arrow:before {content: \"▸\";float: left;margin-right: 0.25em;color: #696969;}#sk-container-id-2 label.sk-toggleable__label-arrow:hover:before {color: black;}#sk-container-id-2 div.sk-estimator:hover label.sk-toggleable__label-arrow:before {color: black;}#sk-container-id-2 div.sk-toggleable__content {max-height: 0;max-width: 0;overflow: hidden;text-align: left;background-color: #f0f8ff;}#sk-container-id-2 div.sk-toggleable__content pre {margin: 0.2em;color: black;border-radius: 0.25em;background-color: #f0f8ff;}#sk-container-id-2 input.sk-toggleable__control:checked~div.sk-toggleable__content {max-height: 200px;max-width: 100%;overflow: auto;}#sk-container-id-2 input.sk-toggleable__control:checked~label.sk-toggleable__label-arrow:before {content: \"▾\";}#sk-container-id-2 div.sk-estimator input.sk-toggleable__control:checked~label.sk-toggleable__label {background-color: #d4ebff;}#sk-container-id-2 div.sk-label input.sk-toggleable__control:checked~label.sk-toggleable__label {background-color: #d4ebff;}#sk-container-id-2 input.sk-hidden--visually {border: 0;clip: rect(1px 1px 1px 1px);clip: rect(1px, 1px, 1px, 1px);height: 1px;margin: -1px;overflow: hidden;padding: 0;position: absolute;width: 1px;}#sk-container-id-2 div.sk-estimator {font-family: monospace;background-color: #f0f8ff;border: 1px dotted black;border-radius: 0.25em;box-sizing: border-box;margin-bottom: 0.5em;}#sk-container-id-2 div.sk-estimator:hover {background-color: #d4ebff;}#sk-container-id-2 div.sk-parallel-item::after {content: \"\";width: 100%;border-bottom: 1px solid gray;flex-grow: 1;}#sk-container-id-2 div.sk-label:hover label.sk-toggleable__label {background-color: #d4ebff;}#sk-container-id-2 div.sk-serial::before {content: \"\";position: absolute;border-left: 1px solid gray;box-sizing: border-box;top: 0;bottom: 0;left: 50%;z-index: 0;}#sk-container-id-2 div.sk-serial {display: flex;flex-direction: column;align-items: center;background-color: white;padding-right: 0.2em;padding-left: 0.2em;position: relative;}#sk-container-id-2 div.sk-item {position: relative;z-index: 1;}#sk-container-id-2 div.sk-parallel {display: flex;align-items: stretch;justify-content: center;background-color: white;position: relative;}#sk-container-id-2 div.sk-item::before, #sk-container-id-2 div.sk-parallel-item::before {content: \"\";position: absolute;border-left: 1px solid gray;box-sizing: border-box;top: 0;bottom: 0;left: 50%;z-index: -1;}#sk-container-id-2 div.sk-parallel-item {display: flex;flex-direction: column;z-index: 1;position: relative;background-color: white;}#sk-container-id-2 div.sk-parallel-item:first-child::after {align-self: flex-end;width: 50%;}#sk-container-id-2 div.sk-parallel-item:last-child::after {align-self: flex-start;width: 50%;}#sk-container-id-2 div.sk-parallel-item:only-child::after {width: 0;}#sk-container-id-2 div.sk-dashed-wrapped {border: 1px dashed gray;margin: 0 0.4em 0.5em 0.4em;box-sizing: border-box;padding-bottom: 0.4em;background-color: white;}#sk-container-id-2 div.sk-label label {font-family: monospace;font-weight: bold;display: inline-block;line-height: 1.2em;}#sk-container-id-2 div.sk-label-container {text-align: center;}#sk-container-id-2 div.sk-container {/* jupyter's `normalize.less` sets `[hidden] { display: none; }` but bootstrap.min.css set `[hidden] { display: none !important; }` so we also need the `!important` here to be able to override the default hidden behavior on the sphinx rendered scikit-learn.org. See: https://github.com/scikit-learn/scikit-learn/issues/21755 */display: inline-block !important;position: relative;}#sk-container-id-2 div.sk-text-repr-fallback {display: none;}</style><div id=\"sk-container-id-2\" class=\"sk-top-container\"><div class=\"sk-text-repr-fallback\"><pre>RandomForestRegressor()</pre><b>In a Jupyter environment, please rerun this cell to show the HTML representation or trust the notebook. <br />On GitHub, the HTML representation is unable to render, please try loading this page with nbviewer.org.</b></div><div class=\"sk-container\" hidden><div class=\"sk-item\"><div class=\"sk-estimator sk-toggleable\"><input class=\"sk-toggleable__control sk-hidden--visually\" id=\"sk-estimator-id-2\" type=\"checkbox\" checked><label for=\"sk-estimator-id-2\" class=\"sk-toggleable__label sk-toggleable__label-arrow\">RandomForestRegressor</label><div class=\"sk-toggleable__content\"><pre>RandomForestRegressor()</pre></div></div></div></div></div>"
      ],
      "text/plain": [
       "RandomForestRegressor()"
      ]
     },
     "execution_count": 33,
     "metadata": {},
     "output_type": "execute_result"
    }
   ],
   "source": [
    "model = RandomForestRegressor()\n",
    "model.fit(X_train_3d,y_train_3d)"
   ]
  },
  {
   "cell_type": "code",
   "execution_count": 34,
   "metadata": {},
   "outputs": [
    {
     "data": {
      "text/plain": [
       "1.643710189608804"
      ]
     },
     "execution_count": 34,
     "metadata": {},
     "output_type": "execute_result"
    }
   ],
   "source": [
    "predictions_3d = model.predict(X_test_3d)\n",
    "mean_squared_error(y_test_3d, predictions_3d)"
   ]
  },
  {
   "cell_type": "code",
   "execution_count": 35,
   "metadata": {},
   "outputs": [
    {
     "data": {
      "text/plain": [
       "array([[ 2.54954942, 86.61902652,  0.7504857 ]])"
      ]
     },
     "execution_count": 35,
     "metadata": {},
     "output_type": "execute_result"
    }
   ],
   "source": [
    "model.predict(np.array(X_test_3d[100]).reshape(1,3000))"
   ]
  },
  {
   "cell_type": "code",
   "execution_count": 36,
   "metadata": {},
   "outputs": [
    {
     "name": "stdout",
     "output_type": "stream",
     "text": [
      "[2.5516060737271853, 86.67138797389234, 0.7511929493320965]\n"
     ]
    }
   ],
   "source": [
    "print(y_test_3d[100])"
   ]
  },
  {
   "cell_type": "code",
   "execution_count": null,
   "metadata": {},
   "outputs": [],
   "source": []
  }
 ],
 "metadata": {
  "kernelspec": {
   "display_name": "Python 3",
   "language": "python",
   "name": "python3"
  },
  "language_info": {
   "codemirror_mode": {
    "name": "ipython",
    "version": 3
   },
   "file_extension": ".py",
   "mimetype": "text/x-python",
   "name": "python",
   "nbconvert_exporter": "python",
   "pygments_lexer": "ipython3",
   "version": "3.8.6"
  },
  "orig_nbformat": 4,
  "vscode": {
   "interpreter": {
    "hash": "2469a70536e4d2335a2ea8907942d0699c37342a371ac185bdb5b0aa6f073890"
   }
  }
 },
 "nbformat": 4,
 "nbformat_minor": 2
}
